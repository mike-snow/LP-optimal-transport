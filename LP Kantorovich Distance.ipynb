{
 "cells": [
  {
   "cell_type": "code",
   "execution_count": 1,
   "metadata": {},
   "outputs": [],
   "source": [
    "import numpy as np\n",
    "import seaborn as sns\n",
    "import matplotlib.pyplot as plt\n",
    "from cvxopt import spmatrix, matrix, solvers\n",
    "\n",
    "from scipy.sparse import bsr_matrix, eye, kron, hstack, vstack\n",
    "from scipy.spatial.distance import cdist\n",
    "from time import time"
   ]
  },
  {
   "cell_type": "markdown",
   "metadata": {},
   "source": [
    "# Linear programming formulation\n",
    "\n",
    "Suppose we have two non-negative denisties $f_i$, for $i = 1, 2, \\cdots , m$, $g_j$ for $j = 1, 2, \\cdots , n$ where \n",
    "\n",
    "$$\\sum_i^m f_i = \\sum_j^n g_j$$\n",
    "\n",
    "\n",
    "on the unit interval $[0,1]$ with $c_{ij}$ the vector of squared distances between points $i$ and $j$. \n",
    "\n",
    "The we wish to find mapping $T_{ij}$ so that to minimise \n",
    "\n",
    "$$ \\sum_i^m \\sum_j^n c_{ij} T_{ij}$$\n",
    "\n",
    "subject to \n",
    "\n",
    "$$\\sum_j^n T_{ij} = f_i, \\qquad \\sum_i^m T_{ij} = g_y$$\n",
    "$$$$\n",
    "\n",
    "where \n",
    "\n",
    "$$T_{ij} \\geq 0.$$\n",
    "\n",
    "In matrix form this is a standard linear programming \n",
    "\n",
    "$$\\text{minimise } c \\cdot x$$\n",
    "\n",
    "subject to \n",
    "\n",
    "$$Ax = b, \\qquad \\text{for} \\qquad x \\geq 0$$\n",
    "\n",
    "where $A$ is the contraint matrix, $x$ is the mapping $T_{ij}$ and $b = [f_1, \\cdots , f_m, g_1, \\cdots, g_n]$."
   ]
  },
  {
   "cell_type": "code",
   "execution_count": 2,
   "metadata": {},
   "outputs": [],
   "source": [
    "def _normalise(density):\n",
    "    return density / float(np.sum(density))"
   ]
  },
  {
   "cell_type": "code",
   "execution_count": 3,
   "metadata": {},
   "outputs": [],
   "source": [
    "def _coeff_matrix(m, n):\n",
    "    a = hstack([kron(eye(m), np.ones(n)), bsr_matrix(np.ones((m, 1)))])\n",
    "    b = hstack([kron(np.ones(m), eye(n)), bsr_matrix(np.zeros((n, 1)))])\n",
    "    A = vstack([a, b]).tocoo()\n",
    "    return spmatrix(A.data.tolist(), A.row.tolist(), A.col.tolist(), size=(m + n, m * n + 1))"
   ]
  },
  {
   "cell_type": "code",
   "execution_count": 4,
   "metadata": {},
   "outputs": [],
   "source": [
    "def _1dcost(source, target):\n",
    "    cost = []\n",
    "    m, n = len(source), len(target)\n",
    "    x1 = np.linspace(0, 1, m)\n",
    "    y1 = np.linspace(0, 1, n)\n",
    "\n",
    "    for i in range(m):\n",
    "        for j in range(n):\n",
    "            cost.append((x1[i] - y1[j]) ** 2)\n",
    "    cost.append(0)\n",
    "    \n",
    "    return cost"
   ]
  },
  {
   "cell_type": "markdown",
   "metadata": {},
   "source": [
    "# Example of optimal transport problem\n",
    "\n",
    "Optimal transport between source and target densites $f(x)$,  $g(y)$ has a mapping $T(x)$ that satisfies the PDE \n",
    "\n",
    "$$\\lvert\\det(\\nabla T(x))\\rvert g(T(x)) = f(x)$$ \n",
    "\n",
    "that maps $f(x)$ onto $g(y)$. An optimal transport distance, known as the Wasserstein distance can be defined as $$W = \\int_X \\lvert x - T(x) \\rvert^2 f(x)dx$$. \n",
    "\n",
    "From literature (see Villani) we know the mapping $T(x)$ has the form \n",
    "\n",
    "$$T(x) = \\nabla \\phi = \\nabla\\left(\\frac{x^2}{2} - \\psi\\right).$$\n",
    "\n",
    "A couple of examples.. \n",
    "\n",
    "Let $f(x) = 2x$ and $g(y) = 1$, where $x \\in X$, $y \\in Y$ and $X=Y=[0,1]$, then the PDE becomes \n",
    "\n",
    "$$ \\nabla T(x) = \\phi_{xx} = 2x.$$\n",
    "\n",
    "Integrating.. \n",
    "\n",
    "$$ \\nabla T(x) = \\phi_{x} = x^2 = T(x).$$\n",
    "\n",
    "Then to find the cost\n",
    "\n",
    "$$W = \\int_0^1 \\lvert x - x^2 \\rvert^2 2x dx  = \\frac{1}{30} \\approx 0.0333.$$\n",
    "\n",
    "\n",
    "\n",
    "Or alternatively (Villani), we know that \n",
    "\n",
    "$$T(x) = G^{-1}(F(x)),$$\n",
    "\n",
    "where, $F(x)$ and $G(y)$ are the cumulative density functions of $f(x)$ and $g(y)$ respectively. So \n",
    "\n",
    "$$F(x) = \\int_0^x 2 \\xi d \\xi = x^2$$\n",
    "$$G(y) = \\int_0^y d \\eta = y = G^{-1}(y)$$\n",
    "\n",
    "So $T(x) = G^{-1}(F(x)) = x^2$. "
   ]
  },
  {
   "cell_type": "code",
   "execution_count": 5,
   "metadata": {},
   "outputs": [],
   "source": [
    "m, n = 32, 32\n",
    "\n",
    "source = 2 * np.array(list(range(m))) / float(m-1)\n",
    "target = np.ones(n)"
   ]
  },
  {
   "cell_type": "code",
   "execution_count": 6,
   "metadata": {},
   "outputs": [
    {
     "data": {
      "text/plain": [
       "[<matplotlib.lines.Line2D at 0x7fa9017ea320>]"
      ]
     },
     "execution_count": 6,
     "metadata": {},
     "output_type": "execute_result"
    },
    {
     "data": {
      "image/png": "[encoded data removed]",
      "text/plain": [
       "<Figure size 432x288 with 1 Axes>"
      ]
     },
     "metadata": {},
     "output_type": "display_data"
    }
   ],
   "source": [
    "plt.plot(source, color = 'r')\n",
    "plt.plot(target, color = 'b')"
   ]
  },
  {
   "cell_type": "code",
   "execution_count": 7,
   "metadata": {},
   "outputs": [
    {
     "name": "stdout",
     "output_type": "stream",
     "text": [
      "Problem\n",
      "  Name                   :                 \n",
      "  Objective sense        : min             \n",
      "  Type                   : LO (linear optimization problem)\n",
      "  Constraints            : 1089            \n",
      "  Cones                  : 0               \n",
      "  Scalar variables       : 1025            \n",
      "  Matrix variables       : 0               \n",
      "  Integer variables      : 0               \n",
      "\n",
      "Optimizer started.\n",
      "Presolve started.\n",
      "Linear dependency checker started.\n",
      "Linear dependency checker terminated.\n",
      "Eliminator - tries                  : 0                 time                   : 0.00            \n",
      "Lin. dep.  - tries                  : 1                 time                   : 0.00            \n",
      "Lin. dep.  - number                 : 0               \n",
      "Presolve terminated. Time: 0.00    \n",
      "Problem\n",
      "  Name                   :                 \n",
      "  Objective sense        : min             \n",
      "  Type                   : LO (linear optimization problem)\n",
      "  Constraints            : 1089            \n",
      "  Cones                  : 0               \n",
      "  Scalar variables       : 1025            \n",
      "  Matrix variables       : 0               \n",
      "  Integer variables      : 0               \n",
      "\n",
      "Optimizer  - threads                : 16              \n",
      "Optimizer  - solved problem         : the primal      \n",
      "Optimizer  - Constraints            : 62\n",
      "Optimizer  - Cones                  : 0\n",
      "Optimizer  - Scalar variables       : 992               conic                  : 0               \n",
      "Optimizer  - Semi-definite variables: 0                 scalarized             : 0               \n",
      "Factor     - setup time             : 0.00              dense det. time        : 0.00            \n",
      "Factor     - ML order time          : 0.00              GP order time          : 0.00            \n",
      "Factor     - nonzeros before factor : 1022              after factor           : 1457            \n",
      "Factor     - dense dim.             : 0                 flops                  : 5.64e+04        \n",
      "ITE PFEAS    DFEAS    GFEAS    PRSTATUS   POBJ              DOBJ              MU       TIME  \n",
      "0   3.2e+01  1.0e+00  1.7e+02  1.00e+00   1.708387097e+02   0.000000000e+00   1.0e+00  0.00  \n",
      "1   3.2e+01  6.1e-01  1.7e+02  0.00e+00   1.708387097e+02   -2.051042292e+00  2.1e+00  0.02  \n",
      "2   9.0e-01  1.7e-02  4.9e+00  1.42e-01   3.743446807e+00   -2.529620825e+00  6.0e-02  0.02  \n",
      "3   1.6e-01  3.0e-03  8.6e-01  1.59e+01   1.071209278e-01   2.028894374e-02   1.1e-02  0.02  \n",
      "4   3.7e-02  4.6e-04  1.8e-01  1.14e+00   5.400098522e-02   3.589517719e-02   2.3e-03  0.02  \n",
      "5   7.3e-03  5.7e-05  3.5e-02  9.90e-01   4.097129249e-02   3.751445470e-02   4.4e-04  0.02  \n",
      "6   1.1e-03  8.3e-06  5.1e-03  1.00e+00   3.840576142e-02   3.790018546e-02   6.4e-05  0.02  \n",
      "7   9.0e-06  7.0e-08  4.4e-05  1.00e+00   3.799645952e-02   3.799216933e-02   5.4e-07  0.02  \n",
      "8   5.7e-08  4.5e-10  2.8e-07  1.00e+00   3.799387394e-02   3.799384664e-02   3.4e-09  0.02  \n",
      "9   7.4e-12  4.8e-14  3.0e-11  1.00e+00   3.799385721e-02   3.799385720e-02   3.9e-13  0.02  \n",
      "Basis identification started.\n",
      "Basis identification terminated. Time: 0.00\n",
      "Optimizer terminated. Time: 0.04    \n",
      "\n",
      "\n",
      "Interior-point solution summary\n",
      "  Problem status  : PRIMAL_AND_DUAL_FEASIBLE\n",
      "  Solution status : OPTIMAL\n",
      "  Primal.  obj: 3.7993857207e-02    nrm: 6e-02    Viol.  con: 7e-13    var: 0e+00  \n",
      "  Dual.    obj: 3.7993857204e-02    nrm: 6e+00    Viol.  con: 0e+00    var: 5e-15  \n",
      "\n",
      "Basic solution summary\n",
      "  Problem status  : PRIMAL_AND_DUAL_FEASIBLE\n",
      "  Solution status : OPTIMAL\n",
      "  Primal.  obj: 3.7993857205e-02    nrm: 6e-02    Viol.  con: 7e-18    var: 0e+00  \n",
      "  Dual.    obj: 3.7993857204e-02    nrm: 6e+00    Viol.  con: 0e+00    var: 9e-16  \n",
      "\n",
      "Solver time: 0.061573028564453125\n",
      "\n",
      "Cost: [ 3.80e-02]\n",
      "\n"
     ]
    }
   ],
   "source": [
    "# Set up LP problem & solve \n",
    "\n",
    "A = _coeff_matrix(m, n)\n",
    "\n",
    "b = matrix(np.r_[_normalise(source), _normalise(target)])\n",
    "\n",
    "c = matrix(_1dcost(source, target))\n",
    "\n",
    "G = spmatrix(-1.0, range(m * n + 1), range(m * n + 1))\n",
    "\n",
    "h = matrix(np.zeros(n*m+1)) # Ensure x \\geq 0\n",
    "\n",
    "t0 = time()\n",
    "solution = solvers.lp(c, G, h, A, b, solver='mosek')\n",
    "t1 = time()\n",
    "\n",
    "x = solution['x']\n",
    "\n",
    "print('\\n' + 'Solver time: ' + str(t1 - t0))\n",
    "\n",
    "\n",
    "# Approximation to Wasserstein distance\n",
    "\n",
    "print('\\n' + 'Cost: ' + str(x.T*c))\n"
   ]
  },
  {
   "cell_type": "markdown",
   "metadata": {},
   "source": [
    "# 2D example of same problem \n",
    "\n",
    "Solution is the same. Much above $32 \\times 32$ density is too big to reasonably solve. \n",
    "\n",
    "The linear programming formula is exactly the same if we flatten our 2D densities to vectors and construct a 2D cost function instead."
   ]
  },
  {
   "cell_type": "code",
   "execution_count": 8,
   "metadata": {},
   "outputs": [],
   "source": [
    "def _2dcost(source, target):\n",
    "    m1, m2 = source.shape\n",
    "    n1, n2 = target.shape\n",
    "# create meshgrids on domain [0,1] x [0,1]\n",
    "    X1, X2 = np.linspace(0, 1, m1), np.linspace(0, 1, m2)\n",
    "    Y1, Y2 = np.linspace(0, 1, n1), np.linspace(0, 1, n2)\n",
    "    x1, x2 = np.meshgrid(X1, X2)\n",
    "    y1, y2 = np.meshgrid(Y1, Y2)\n",
    "# coordinate array\n",
    "    coords_x = np.c_[x1.flatten(), x2.flatten()]\n",
    "    coords_y = np.c_[y1.flatten(), y2.flatten()]\n",
    "# pairwise distance between coordinates\n",
    "    cost = np.append(cdist(coords_x, coords_y, 'sqeuclidean').flatten(), 0)\n",
    "    return cost"
   ]
  },
  {
   "cell_type": "code",
   "execution_count": 9,
   "metadata": {},
   "outputs": [],
   "source": [
    "m1, m2 = 32, 32\n",
    "n1, n2 = 32, 32\n",
    "\n",
    "M = m1 * m2\n",
    "N = n1 * n2\n",
    "\n",
    "source = 2 * np.array(list(range(m1))) / float(m1-1)\n",
    "source = np.tile(source, (m2, 1))\n",
    "\n",
    "target = np.ones((n1, n2))"
   ]
  },
  {
   "cell_type": "code",
   "execution_count": 10,
   "metadata": {},
   "outputs": [
    {
     "data": {
      "text/plain": [
       "<matplotlib.axes._subplots.AxesSubplot at 0x7fa9017dee48>"
      ]
     },
     "execution_count": 10,
     "metadata": {},
     "output_type": "execute_result"
    },
    {
     "data": {
      "image/png": "[encoded data removed]",
      "text/plain": [
       "<Figure size 432x288 with 2 Axes>"
      ]
     },
     "metadata": {},
     "output_type": "display_data"
    }
   ],
   "source": [
    "sns.heatmap(source)"
   ]
  },
  {
   "cell_type": "code",
   "execution_count": 11,
   "metadata": {},
   "outputs": [
    {
     "data": {
      "text/plain": [
       "<matplotlib.axes._subplots.AxesSubplot at 0x7fa8fcc0e4a8>"
      ]
     },
     "execution_count": 11,
     "metadata": {},
     "output_type": "execute_result"
    },
    {
     "data": {
      "image/png": "[encoded data removed]",
      "text/plain": [
       "<Figure size 432x288 with 2 Axes>"
      ]
     },
     "metadata": {},
     "output_type": "display_data"
    }
   ],
   "source": [
    "sns.heatmap(target)"
   ]
  },
  {
   "cell_type": "code",
   "execution_count": 12,
   "metadata": {},
   "outputs": [
    {
     "name": "stdout",
     "output_type": "stream",
     "text": [
      "Problem\n",
      "  Name                   :                 \n",
      "  Objective sense        : min             \n",
      "  Type                   : LO (linear optimization problem)\n",
      "  Constraints            : 1050625         \n",
      "  Cones                  : 0               \n",
      "  Scalar variables       : 1048577         \n",
      "  Matrix variables       : 0               \n",
      "  Integer variables      : 0               \n",
      "\n",
      "Optimizer started.\n",
      "Presolve started.\n",
      "Linear dependency checker started.\n",
      "Linear dependency checker terminated.\n",
      "Eliminator - tries                  : 0                 time                   : 0.00            \n",
      "Lin. dep.  - tries                  : 1                 time                   : 0.24            \n",
      "Lin. dep.  - number                 : 0               \n",
      "Presolve terminated. Time: 1.79    \n",
      "Problem\n",
      "  Name                   :                 \n",
      "  Objective sense        : min             \n",
      "  Type                   : LO (linear optimization problem)\n",
      "  Constraints            : 1050625         \n",
      "  Cones                  : 0               \n",
      "  Scalar variables       : 1048577         \n",
      "  Matrix variables       : 0               \n",
      "  Integer variables      : 0               \n",
      "\n",
      "Optimizer  - threads                : 16              \n",
      "Optimizer  - solved problem         : the primal      \n",
      "Optimizer  - Constraints            : 2015\n",
      "Optimizer  - Cones                  : 0\n",
      "Optimizer  - Scalar variables       : 1015808           conic                  : 0               \n",
      "Optimizer  - Semi-definite variables: 0                 scalarized             : 0               \n",
      "Factor     - setup time             : 0.70              dense det. time        : 0.00            \n",
      "Factor     - ML order time          : 0.04              GP order time          : 0.00            \n",
      "Factor     - nonzeros before factor : 1.02e+06          after factor           : 1.51e+06        \n",
      "Factor     - dense dim.             : 0                 flops                  : 1.35e+09        \n",
      "ITE PFEAS    DFEAS    GFEAS    PRSTATUS   POBJ              DOBJ              MU       TIME  \n",
      "0   1.0e+03  1.0e+00  2.5e+05  1.00e+00   3.551628387e+05   0.000000000e+00   1.0e+00  2.86  \n",
      "1   1.0e+03  1.4e+00  2.5e+05  0.00e+00   3.551628387e+05   -2.801342912e+00  2.0e+00  3.17  \n",
      "2   1.2e-01  1.7e-04  3.0e+01  -9.99e-01  2.120568677e+03   -1.530519455e+02  2.4e-04  3.47  \n",
      "3   8.4e-02  1.1e-04  2.1e+01  5.21e+00   3.687168605e+02   -3.914688235e+01  1.6e-04  3.69  \n",
      "4   1.2e-02  1.6e-05  2.9e+00  4.46e+01   7.460740113e-01   -4.811700723e-01  2.3e-05  4.05  \n",
      "5   6.1e-03  6.7e-06  1.3e+00  3.75e+00   3.061329651e-01   -1.914933926e-02  1.0e-05  4.33  \n",
      "6   9.8e-04  1.5e-06  2.3e-01  1.53e+00   8.175121644e-02   3.380052361e-02   1.7e-06  4.76  \n",
      "7   6.0e-04  9.0e-07  1.4e-01  1.08e+00   6.421742487e-02   3.507933748e-02   1.1e-06  5.07  \n",
      "8   2.6e-04  3.3e-07  6.1e-02  1.05e+00   4.940784543e-02   3.699320388e-02   4.6e-07  5.35  \n",
      "9   3.7e-05  4.6e-08  8.6e-03  1.01e+00   3.957666894e-02   3.784396285e-02   6.5e-08  5.70  \n",
      "10  1.3e-05  1.6e-08  3.0e-03  9.96e-01   3.854328699e-02   3.794484058e-02   2.2e-08  5.97  \n",
      "11  1.1e-06  1.3e-09  2.5e-04  9.99e-01   3.804339857e-02   3.799284961e-02   1.9e-09  6.37  \n",
      "12  1.4e-07  1.8e-10  3.3e-05  1.00e+00   3.800038206e-02   3.799373950e-02   2.5e-10  6.61  \n",
      "13  7.3e-10  9.1e-13  1.7e-07  1.00e+00   3.799389093e-02   3.799385663e-02   1.3e-12  6.86  \n",
      "14  1.6e-09  2.4e-13  4.5e-08  1.00e+00   3.799386612e-02   3.799385705e-02   3.4e-13  7.12  \n",
      "Basis identification started.\n",
      "Basis identification terminated. Time: 0.35\n",
      "Optimizer terminated. Time: 7.82    \n",
      "\n",
      "\n",
      "Interior-point solution summary\n",
      "  Problem status  : PRIMAL_AND_DUAL_FEASIBLE\n",
      "  Solution status : OPTIMAL\n",
      "  Primal.  obj: 3.7993866118e-02    nrm: 2e-03    Viol.  con: 2e-10    var: 0e+00  \n",
      "  Dual.    obj: 3.7993857055e-02    nrm: 2e+02    Viol.  con: 0e+00    var: 9e-14  \n",
      "\n",
      "Basic solution summary\n",
      "  Problem status  : PRIMAL_AND_DUAL_FEASIBLE\n",
      "  Solution status : OPTIMAL\n",
      "  Primal.  obj: 3.7993857205e-02    nrm: 2e-03    Viol.  con: 9e-18    var: 0e+00  \n",
      "  Dual.    obj: 3.7993857055e-02    nrm: 2e+02    Viol.  con: 7e-07    var: 7e-07  \n",
      "\n",
      "Solver time: 11.129656553268433\n",
      "\n",
      "Cost: [ 3.80e-02]\n",
      "\n"
     ]
    }
   ],
   "source": [
    "# Set up LP problem & solve \n",
    "\n",
    "A = _coeff_matrix(M, N)\n",
    "\n",
    "b = matrix(np.r_[_normalise(source.flatten('F')), _normalise(target.flatten('F'))])\n",
    "\n",
    "c = matrix(_2dcost(source, target))\n",
    "\n",
    "# Ensure x \\geq 0 or in cvxopt Gx \\leq h\n",
    "\n",
    "G = spmatrix(-1.0, range(M * N + 1), range(M * N + 1)) \n",
    "\n",
    "h = matrix(np.zeros(M * N + 1)) \n",
    "\n",
    "t0 = time()\n",
    "solution = solvers.lp(c, G, h, A, b, solver='mosek')\n",
    "t1 = time()\n",
    "\n",
    "x = solution['x']\n",
    "\n",
    "print('\\n' + 'Solver time: ' + str(t1 - t0))\n",
    "\n",
    "# Approximation to Wasserstein distance\n",
    "\n",
    "print('\\n' + 'Cost: ' + str(x.T*c))"
   ]
  },
  {
   "cell_type": "code",
   "execution_count": 13,
   "metadata": {},
   "outputs": [],
   "source": [
    "res = np.array(x)"
   ]
  },
  {
   "cell_type": "code",
   "execution_count": 14,
   "metadata": {},
   "outputs": [],
   "source": [
    "sol = np.reshape(res[:-1], (32**2, 32**2))"
   ]
  },
  {
   "cell_type": "code",
   "execution_count": 15,
   "metadata": {},
   "outputs": [
    {
     "data": {
      "text/plain": [
       "<matplotlib.axes._subplots.AxesSubplot at 0x7fa8fcbf9898>"
      ]
     },
     "execution_count": 15,
     "metadata": {},
     "output_type": "execute_result"
    },
    {
     "data": {
      "image/png": "[encoded data removed]",
      "text/plain": [
       "<Figure size 1296x864 with 2 Axes>"
      ]
     },
     "metadata": {},
     "output_type": "display_data"
    }
   ],
   "source": [
    "plt.gcf().set_size_inches(18,12)\n",
    "plt.gca().set_aspect('equal')\n",
    "sns.heatmap(sol)"
   ]
  },
  {
   "cell_type": "code",
   "execution_count": null,
   "metadata": {},
   "outputs": [],
   "source": []
  }
 ],
 "metadata": {
  "kernelspec": {
   "display_name": "Python 3",
   "language": "python",
   "name": "python3"
  },
  "language_info": {
   "codemirror_mode": {
    "name": "ipython",
    "version": 3
   },
   "file_extension": ".py",
   "mimetype": "text/x-python",
   "name": "python",
   "nbconvert_exporter": "python",
   "pygments_lexer": "ipython3",
   "version": "3.5.2"
  }
 },
 "nbformat": 4,
 "nbformat_minor": 2
}
